{
 "cells": [
  {
   "cell_type": "code",
   "execution_count": 38,
   "metadata": {},
   "outputs": [],
   "source": [
    "import os\n",
    "import pandas as pd\n",
    "# from sklearn.metrics import accuracy_score\n",
    "# from sklearn.metrics import r2_score \n",
    "from sklearn.metrics import f1_score"
   ]
  },
  {
   "cell_type": "code",
   "execution_count": 39,
   "metadata": {},
   "outputs": [],
   "source": [
    "# TODO\n",
    "# Load the ground truth labels (answer)\n",
    "# Change the csv file based on the current topic\n",
    "answer = pd.read_csv('./evaluation-data/answer.csv')\n",
    "\n",
    "# What is the variable name for the label?\n",
    "data_label = 'HeartDisease'\n",
    "\n",
    "# TODO\n",
    "# Specify the main folder and the specific subfolder you want to process\n",
    "submission_folder = 'submissions'     # Main folder path\n",
    "model_subfolder = 'decisiontree'     # Model sub-subfolder path\n",
    "\n",
    "# TODO\n",
    "# Change accuracy score to another metric to fit your requirements\n",
    "\n",
    "def evaluate_submission(submission, answer):\n",
    "    # accuracy = accuracy_score(answer[data_label], submission[data_label])\n",
    "    # return accuracy\n",
    "    # r2 = r2_score(answer[data_label], submission[data_label])  # Use r2_score for evaluation\n",
    "    # return r2\n",
    "    f1 = f1_score(answer[data_label], submission[data_label])\n",
    "    return f1"
   ]
  },
  {
   "cell_type": "code",
   "execution_count": 40,
   "metadata": {},
   "outputs": [],
   "source": [
    "def load_submission(file_path):\n",
    "    submission = pd.read_csv(file_path)\n",
    "    return submission\n",
    "\n",
    "def rank_submissions(submission_folder, model_subfolder, answer):\n",
    "    results = []\n",
    "    # Construct the path to the specific subfolder\n",
    "    specific_path = os.path.join(submission_folder, model_subfolder)\n",
    "    \n",
    "    # Ensure the specific subfolder exists\n",
    "    if os.path.exists(specific_path) and os.path.isdir(specific_path):\n",
    "        # Process files in the specific subfolder\n",
    "        for file_name in os.listdir(specific_path):\n",
    "            if file_name.endswith('.csv'):\n",
    "                file_path = os.path.join(specific_path, file_name)\n",
    "                submission = load_submission(file_path)\n",
    "                score = evaluate_submission(submission, answer)\n",
    "                results.append((file_name, score))\n",
    "    else:\n",
    "        print(f\"The specified subfolder '{model_subfolder}' does not exist.\")\n",
    "\n",
    "    # Sort results based on the score\n",
    "    results.sort(key=lambda x: x[1], reverse=True)\n",
    "    return results\n",
    "\n"
   ]
  },
  {
   "cell_type": "code",
   "execution_count": 41,
   "metadata": {},
   "outputs": [
    {
     "name": "stdout",
     "output_type": "stream",
     "text": [
      "Rank 1: answer.csv with a score of 1.0\n",
      "Rank 2: sample_submission.csv with a score of 0.0\n"
     ]
    }
   ],
   "source": [
    "# Rank the submissions and display the results\n",
    "rankings = rank_submissions(submission_folder, model_subfolder, answer)\n",
    "\n",
    "# Display rankings\n",
    "for rank, (file_name, score) in enumerate(rankings, start=1):\n",
    "    print(f\"Rank {rank}: {file_name} with a score of {score}\")"
   ]
  }
 ],
 "metadata": {
  "kernelspec": {
   "display_name": "Python 3",
   "language": "python",
   "name": "python3"
  },
  "language_info": {
   "codemirror_mode": {
    "name": "ipython",
    "version": 3
   },
   "file_extension": ".py",
   "mimetype": "text/x-python",
   "name": "python",
   "nbconvert_exporter": "python",
   "pygments_lexer": "ipython3",
   "version": "3.9.15"
  }
 },
 "nbformat": 4,
 "nbformat_minor": 2
}
