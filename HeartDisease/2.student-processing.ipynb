{
 "cells": [
  {
   "cell_type": "markdown",
   "metadata": {},
   "source": [
    "## <font color=\"lime\">BA 305 - Team Exercise - Data Exploration + Cleaning<font> \n",
    "\n",
    "## Team Name:\n",
    "\n",
    "---"
   ]
  },
  {
   "cell_type": "markdown",
   "metadata": {},
   "source": [
    "## Scenario - Heart Disease"
   ]
  },
  {
   "cell_type": "markdown",
   "metadata": {},
   "source": [
    "<img src=\"https://images.pexels.com/photos/4386466/pexels-photo-4386466.jpeg?auto=compress&cs=tinysrgb&w=1260&h=750&dpr=2\" width=\"800\" height=\"500\" alt=\"Train\">\n"
   ]
  },
  {
   "cell_type": "markdown",
   "metadata": {},
   "source": [
    "Machine learning's role in heart disease classification offers significant advantages to the medical field, enhancing healthcare professionals' ability to deliver care. Through the analysis of patient data, these algorithms can furnish precise diagnoses, tailor treatment plans, and evaluate risk levels. Additionally, they enable continuous monitoring of patient health, facilitate prognosis predictions over extended periods, and uncover emerging patterns and insights within cardiac health research. Essentially, applying machine learning for heart disease classification equips physicians with critical information and support, contributing to improved patient care and fostering the advancement of novel treatment approaches."
   ]
  },
  {
   "cell_type": "markdown",
   "metadata": {},
   "source": [
    "---"
   ]
  },
  {
   "cell_type": "markdown",
   "metadata": {},
   "source": [
    "## Dataset Description\n",
    "\n",
    "The ground truth is labeled 'HeartDisease' and indicates whether the person has a heart disease (1) or not (0)\n",
    "\n",
    "**Files Included:**\n",
    "- `team_exercise_data.csv` - the dataset for model train and test.\n",
    "- `test.csv` - the actual test dataset provided for evaluation purposes by the teaching team. Your task is to predict the 'HeartDisease' variable for the 'ID's listed in this file.\n",
    "- `sample_submission.csv` - a sample submission file in the correct format.\n",
    "\n",
    "---"
   ]
  },
  {
   "cell_type": "markdown",
   "metadata": {},
   "source": [
    "## Evaluation\n",
    "\n",
    "Submissions are evaluated on the F1 Score.\n",
    "\n",
    "- F1 Score: The F1 score is the harmonic mean of precision and recall. It provides a single metric that balances both the precision and recall, which is particularly useful when you want to balance the importance of correctly identifying the non-majority class against the cost of incorrectly labeling the majority class as the non-majority class.\n",
    "https://www.v7labs.com/blog/f1-score-guide\n",
    "\n",
    "---"
   ]
  },
  {
   "cell_type": "markdown",
   "metadata": {},
   "source": [
    "## <font color=\"lime\">Notebook Objective<font>\n",
    "\n",
    "The goal of this notebook is to conduct data exploration and data preparation alongside your team, setting the stage for the development and training of machine learning models.\n",
    "\n",
    "---"
   ]
  },
  {
   "cell_type": "code",
   "execution_count": null,
   "metadata": {},
   "outputs": [],
   "source": [
    "from google.colab import drive\n",
    "drive.mount ('/content/drive')"
   ]
  },
  {
   "cell_type": "code",
   "execution_count": 9,
   "metadata": {},
   "outputs": [],
   "source": [
    "# Import libraries\n",
    "\n",
    "import seaborn as sns\n",
    "import numpy as np\n",
    "import pandas as pd\n",
    "\n",
    "# TODO Add more"
   ]
  },
  {
   "cell_type": "code",
   "execution_count": null,
   "metadata": {},
   "outputs": [],
   "source": [
    "# Load Data\n",
    "# TODO Change the path based on your set up\n",
    "\n",
    "df = pd.read_csv('/content/drive/My Drive/team_exercise_data.csv')\n",
    "df"
   ]
  },
  {
   "cell_type": "markdown",
   "metadata": {},
   "source": [
    "---"
   ]
  },
  {
   "cell_type": "markdown",
   "metadata": {},
   "source": [
    "## Data Exploration + Cleaning\n",
    "\n",
    "Conduct data exploration and cleaning below. Feel free to use AI tools, online resources, and any other available technologies to accomplish the assigned tasks.\n",
    "\n",
    "<font color=\"red\"> Make sure you split the data into training and testing sets before applying any scaling operations!<font>"
   ]
  },
  {
   "cell_type": "code",
   "execution_count": null,
   "metadata": {},
   "outputs": [],
   "source": [
    "# TODO"
   ]
  },
  {
   "cell_type": "markdown",
   "metadata": {},
   "source": [
    "---"
   ]
  },
  {
   "cell_type": "markdown",
   "metadata": {},
   "source": [
    "## Save the Processed Data\n"
   ]
  },
  {
   "cell_type": "code",
   "execution_count": null,
   "metadata": {},
   "outputs": [],
   "source": [
    "# TODO Change the path based on your set up\n",
    "\n",
    "processed_train.to_csv('/content/drive/My Drive/processed_train.csv', index=False)\n",
    "processed_test.to_csv('/content/drive/My Drive/processed_test.csv', index=False)"
   ]
  },
  {
   "cell_type": "code",
   "execution_count": null,
   "metadata": {},
   "outputs": [],
   "source": [
    "# Check if the processed data was correctly saved.\n",
    "\n",
    "check_train = pd.read_csv('/content/drive/My Drive/processed_train.csv')\n",
    "check_train"
   ]
  },
  {
   "cell_type": "code",
   "execution_count": null,
   "metadata": {},
   "outputs": [],
   "source": [
    "check_test = pd.read_csv('/content/drive/My Drive/processed_test.csv')\n",
    "check_test"
   ]
  },
  {
   "cell_type": "markdown",
   "metadata": {},
   "source": [
    "---"
   ]
  },
  {
   "cell_type": "markdown",
   "metadata": {},
   "source": [
    "## Repeat the Data Processing to test.csv"
   ]
  },
  {
   "cell_type": "markdown",
   "metadata": {},
   "source": [
    "`test.csv` - the actual test dataset provided for evaluation purposes by the teaching team. Your task is to predict the 'y' variable for the 'ID's listed in this file."
   ]
  },
  {
   "cell_type": "markdown",
   "metadata": {},
   "source": [
    "`Why?`\n",
    "\n",
    "Ensuring the test data is processed in the same way as the training data is crucial for maintaining the accuracy and effectiveness of a machine learning model. This consistency in preprocessing steps, such as scaling, handling missing values, and encoding categorical variables, ensures that the model receives test data in the format it expects, based on its training. Without matching preprocessing, the model might misinterpret the test data, leading to inaccurate predictions. Essentially, for the model to apply what it has learned accurately to new, unseen data, the feature space of the test data must closely align with that of the training data."
   ]
  },
  {
   "cell_type": "markdown",
   "metadata": {},
   "source": [
    "<font color=\"red\"> If you've applied scaling earlier, remember to use the `transform` method instead of `fit_transform` for this test.csv data, as the scaler should be calibrated based on the original training data only.<font>"
   ]
  },
  {
   "cell_type": "code",
   "execution_count": null,
   "metadata": {},
   "outputs": [],
   "source": [
    "# TODO Change the path based on your set up\n",
    "\n",
    "evaluation_df = pd.read_csv('/content/drive/My Drive/test.csv')\n",
    "evaluation_df"
   ]
  },
  {
   "cell_type": "code",
   "execution_count": null,
   "metadata": {},
   "outputs": [],
   "source": [
    "# TODO Repeat Data Processing\n"
   ]
  },
  {
   "cell_type": "markdown",
   "metadata": {},
   "source": [
    "---"
   ]
  },
  {
   "cell_type": "markdown",
   "metadata": {},
   "source": [
    "## Save the Processed test.csv Data"
   ]
  },
  {
   "cell_type": "code",
   "execution_count": null,
   "metadata": {},
   "outputs": [],
   "source": [
    "# TODO Change the path based on your set up\n",
    "\n",
    "processed_evaluation_df.to_csv('/content/drive/My Drive/processed_eval.csv', index=True)"
   ]
  },
  {
   "cell_type": "code",
   "execution_count": null,
   "metadata": {},
   "outputs": [],
   "source": [
    "# Check if the processed data was correctly saved.\n",
    "\n",
    "check_df_eval = pd.read_csv('/content/drive/My Drive/processed_eval.csv', index_col=0)\n",
    "check_df_eval"
   ]
  }
 ],
 "metadata": {
  "kernelspec": {
   "display_name": "Python 3",
   "language": "python",
   "name": "python3"
  },
  "language_info": {
   "codemirror_mode": {
    "name": "ipython",
    "version": 3
   },
   "file_extension": ".py",
   "mimetype": "text/x-python",
   "name": "python",
   "nbconvert_exporter": "python",
   "pygments_lexer": "ipython3",
   "version": "3.9.15"
  }
 },
 "nbformat": 4,
 "nbformat_minor": 2
}
