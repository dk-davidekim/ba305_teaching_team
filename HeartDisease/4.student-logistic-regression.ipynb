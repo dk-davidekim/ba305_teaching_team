{
 "cells": [
  {
   "cell_type": "markdown",
   "metadata": {},
   "source": [
    "## <font color=\"lime\">BA 305 - Team Exercise - Logistic Regression<font> \n",
    "\n",
    "## Team Name:\n",
    "\n",
    "---"
   ]
  },
  {
   "cell_type": "markdown",
   "metadata": {},
   "source": [
    "<img src=\"https://images.pexels.com/photos/4386466/pexels-photo-4386466.jpeg?auto=compress&cs=tinysrgb&w=1260&h=750&dpr=2\" width=\"800\" height=\"500\" alt=\"Train\">\n"
   ]
  },
  {
   "cell_type": "markdown",
   "metadata": {},
   "source": [
    "---"
   ]
  },
  {
   "cell_type": "markdown",
   "metadata": {},
   "source": [
    "## Evaluation\n",
    "\n",
    "Submissions are evaluated on the F1 Score.\n",
    "\n",
    "- F1 Score: The F1 score is the harmonic mean of precision and recall. It provides a single metric that balances both the precision and recall, which is particularly useful when you want to balance the importance of correctly identifying the non-majority class against the cost of incorrectly labeling the majority class as the non-majority class.\n",
    "https://www.v7labs.com/blog/f1-score-guide\n",
    "\n",
    "---"
   ]
  },
  {
   "cell_type": "markdown",
   "metadata": {},
   "source": [
    "## <font color=\"lime\">Notebook Objective<font>\n",
    "\n",
    "This notebook is your guide to using pre-processed data for building and evaluating machine learning models. Your goal is to create a model that accurately predicts a target variable using the following model: Logistic Regression.\n",
    "\n",
    "Here’s what you’ll do:\n",
    "\n",
    "1. **Understand Your Data:** Start by getting to know the pre-processed dataset you'll be working with.\n",
    "\n",
    "2. **Build Models:** Build a logistic regression model.\n",
    "\n",
    "3. **Evaluate and Compare:** Check how well each model performs. You'll be looking for the model that gives you the highest accuracy.\n",
    "\n",
    "4. **Tweak and Improve:** Adjust the settings of your models to see if you can get even better results.\n",
    "\n",
    "Your mission is to find the best model for predicting the target variable. This task will not only sharpen your skills in machine learning but also give you practical experience in model evaluation and selection.\n",
    "\n",
    "Let’s get started and aim for the top score!\n",
    "---"
   ]
  },
  {
   "cell_type": "markdown",
   "metadata": {},
   "source": [
    "##### ** MAKE SURE YOUR PROCESSED DATA AND THE EVALUATION DATA ARE BOTH CLEANED WITH IDENTICAL METHODS **"
   ]
  },
  {
   "cell_type": "code",
   "execution_count": null,
   "metadata": {},
   "outputs": [],
   "source": [
    "from google.colab import drive\n",
    "drive.mount ('/content/drive')"
   ]
  },
  {
   "cell_type": "code",
   "execution_count": 9,
   "metadata": {},
   "outputs": [],
   "source": [
    "# Import libraries\n",
    "\n",
    "import seaborn as sns\n",
    "import numpy as np\n",
    "import pandas as pd\n",
    "\n",
    "# TODO Add more"
   ]
  },
  {
   "cell_type": "code",
   "execution_count": null,
   "metadata": {},
   "outputs": [],
   "source": [
    "# Load Data\n",
    "# TODO Change the path based on your set up\n",
    "\n",
    "processed_data_path = ''\n",
    "\n",
    "df = pd.read_csv(processed_data_path)\n",
    "df"
   ]
  },
  {
   "cell_type": "markdown",
   "metadata": {},
   "source": [
    "---"
   ]
  },
  {
   "cell_type": "markdown",
   "metadata": {},
   "source": [
    "## Logistic Regression\n",
    "\n",
    "Build a logistic regression model below. Feel free to use AI tools, online resources, and any other available technologies to accomplish the assigned tasks."
   ]
  },
  {
   "cell_type": "code",
   "execution_count": null,
   "metadata": {},
   "outputs": [],
   "source": [
    "# TODO"
   ]
  },
  {
   "cell_type": "markdown",
   "metadata": {},
   "source": [
    "---"
   ]
  },
  {
   "cell_type": "markdown",
   "metadata": {},
   "source": [
    "## Final Prediction & Submission\n"
   ]
  },
  {
   "cell_type": "code",
   "execution_count": null,
   "metadata": {},
   "outputs": [],
   "source": [
    "# TODO Change the path based on your set up\n",
    "\n",
    "processed_eval_path = ''\n",
    "\n",
    "eval_df = pd.read_csv(processed_eval_path)"
   ]
  },
  {
   "cell_type": "code",
   "execution_count": null,
   "metadata": {},
   "outputs": [],
   "source": [
    "# TODO Load the model you want to use for the final submission\n",
    "\n",
    "loaded_model"
   ]
  },
  {
   "cell_type": "code",
   "execution_count": null,
   "metadata": {},
   "outputs": [],
   "source": [
    "# TODO Make predictions on the actual test dataset with your model\n",
    "\n",
    "# Assuming the ID column is named 'ID' and you don't want it as part of the features\n",
    "features = eval_df.drop(columns=['ID'])\n",
    "\n",
    "# Make predictions\n",
    "predictions = loaded_model.predict(features)"
   ]
  },
  {
   "cell_type": "code",
   "execution_count": null,
   "metadata": {},
   "outputs": [],
   "source": [
    "# TODO Prepare the submission file\n",
    "\n",
    "# Create a DataFrame for submission\n",
    "submission = pd.DataFrame({\n",
    "    'ID': eval_df['ID'],              # Ensure the ID column matches the sample submission's format\n",
    "    'HeartDisease': predictions       # 'HeartDisease' should be the predicted target variable\n",
    "})"
   ]
  },
  {
   "cell_type": "code",
   "execution_count": null,
   "metadata": {},
   "outputs": [],
   "source": [
    "# TODO Save the submission file\n",
    "submission.to_csv('teamname_submission.csv', index=True)  # Update the path to where you want to save the submission file"
   ]
  }
 ],
 "metadata": {
  "kernelspec": {
   "display_name": "Python 3",
   "language": "python",
   "name": "python3"
  },
  "language_info": {
   "codemirror_mode": {
    "name": "ipython",
    "version": 3
   },
   "file_extension": ".py",
   "mimetype": "text/x-python",
   "name": "python",
   "nbconvert_exporter": "python",
   "pygments_lexer": "ipython3",
   "version": "3.9.15"
  }
 },
 "nbformat": 4,
 "nbformat_minor": 2
}
