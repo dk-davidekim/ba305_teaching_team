{
 "cells": [
  {
   "cell_type": "markdown",
   "metadata": {},
   "source": [
    "## <font color=\"lime\">BA 305 - Team Exercise - Decision Tree<font> \n",
    "\n",
    "## Team Name:\n",
    "\n",
    "---"
   ]
  },
  {
   "cell_type": "markdown",
   "metadata": {},
   "source": [
    "<img src=\"https://images.pexels.com/photos/253647/pexels-photo-253647.jpeg?cs=srgb&dl=pexels-j%C3%A9shoots-253647.jpg&fm=jpg&_gl=1*tdf1fi*_ga*MTg4MzYyOTk2Ny4xNzA5NDg1NDg2*_ga_8JE65Q40S6*MTcwOTQ4NTQ4NS4xLjEuMTcwOTQ4NTYyNC4wLjAuMA..\" width=\"800\" height=\"500\" alt=\"Train\">\n"
   ]
  },
  {
   "cell_type": "markdown",
   "metadata": {},
   "source": [
    "---"
   ]
  },
  {
   "cell_type": "markdown",
   "metadata": {},
   "source": [
    "## Evaluation\n",
    "\n",
    "Submissions are evaluated on the R^2 value, also called the coefficient of determination.\n",
    "\n",
    "https://www.investopedia.com/terms/r/r-squared.asp\n",
    "\n",
    "---"
   ]
  },
  {
   "cell_type": "markdown",
   "metadata": {},
   "source": [
    "## <font color=\"lime\">Notebook Objective<font>\n",
    "\n",
    "This notebook is your guide to using pre-processed data for building and evaluating machine learning models. Your goal is to create a model that accurately predicts a target variable using one of three powerful techniques: decision trees, random forests, or boosted trees.\n",
    "\n",
    "Here’s what you’ll do:\n",
    "\n",
    "1. **Understand Your Data:** Start by getting to know the pre-processed dataset you'll be working with.\n",
    "\n",
    "2. **Build Models:** Use decision trees as your starting point, then try out random forests and boosted trees to see if they can improve your predictions.\n",
    "\n",
    "3. **Evaluate and Compare:** Check how well each model performs. You'll be looking for the model that gives you the highest accuracy.\n",
    "\n",
    "4. **Tweak and Improve:** Adjust the settings of your models to see if you can get even better results.\n",
    "\n",
    "Your mission is to find the best model for predicting the target variable. This task will not only sharpen your skills in machine learning but also give you practical experience in model evaluation and selection.\n",
    "\n",
    "Let’s get started and aim for the top score!\n",
    "---"
   ]
  },
  {
   "cell_type": "code",
   "execution_count": 9,
   "metadata": {},
   "outputs": [],
   "source": [
    "# Import libraries\n",
    "\n",
    "import seaborn as sns\n",
    "import numpy as np\n",
    "import pandas as pd\n",
    "\n",
    "import pickle # FOR SAVING AND LOADING ML MODELS\n",
    "\n",
    "# TODO Add more"
   ]
  },
  {
   "cell_type": "code",
   "execution_count": null,
   "metadata": {},
   "outputs": [],
   "source": [
    "# Load Data\n",
    "# TODO Change the path based on your set up\n",
    "\n",
    "df= pd.read_csv(\"processed_data.csv\")\n",
    "df"
   ]
  },
  {
   "cell_type": "markdown",
   "metadata": {},
   "source": [
    "---"
   ]
  },
  {
   "cell_type": "markdown",
   "metadata": {},
   "source": [
    "## Decision Tree\n",
    "\n",
    "Build a decision tree below. Feel free to use AI tools, online resources, and any other available technologies to accomplish the assigned tasks."
   ]
  },
  {
   "cell_type": "code",
   "execution_count": null,
   "metadata": {},
   "outputs": [],
   "source": [
    "# TODO"
   ]
  },
  {
   "cell_type": "code",
   "execution_count": null,
   "metadata": {},
   "outputs": [],
   "source": [
    "# TODO Save Your Decision Tree Model\n",
    "\n",
    "# Assuming 'dtmodel' is your trained model\n",
    "\n",
    "dt_model_filename = 'decisiontree.pkl'  # Specify your desired file path\n",
    "\n",
    "# Save the dtmodel to disk\n",
    "with open(dt_model_filename, 'wb') as file:\n",
    "    pickle.dump(dtmodel, file)\n",
    "\n",
    "print(f\"Model saved to {dt_model_filename}\")"
   ]
  },
  {
   "cell_type": "markdown",
   "metadata": {},
   "source": [
    "---"
   ]
  },
  {
   "cell_type": "markdown",
   "metadata": {},
   "source": [
    "## Random Forest\n",
    "\n",
    "Build a random forest model below. Feel free to use AI tools, online resources, and any other available technologies to accomplish the assigned tasks."
   ]
  },
  {
   "cell_type": "code",
   "execution_count": null,
   "metadata": {},
   "outputs": [],
   "source": [
    "# TODO"
   ]
  },
  {
   "cell_type": "code",
   "execution_count": null,
   "metadata": {},
   "outputs": [],
   "source": [
    "# TODO Save Your Random Forest Model\n",
    "\n",
    "# Assuming 'rfmodel' is your trained model\n",
    "\n",
    "rf_model_filename = 'randomforest.pkl'  # Specify your desired file path\n",
    "\n",
    "# Save the rfmodel to disk\n",
    "with open(rf_model_filename, 'wb') as file:\n",
    "    pickle.dump(rfmodel, file)\n",
    "\n",
    "print(f\"Model saved to {rf_model_filename}\")"
   ]
  },
  {
   "cell_type": "markdown",
   "metadata": {},
   "source": [
    "---"
   ]
  },
  {
   "cell_type": "markdown",
   "metadata": {},
   "source": [
    "## Boosted Trees\n",
    "\n",
    "Try building boosted trees such as AdaBoost, GBM, XGBoost, LightGBM, CatBoost, etc. Feel free to use AI tools, online resources, and any other available technologies to accomplish the assigned tasks."
   ]
  },
  {
   "cell_type": "code",
   "execution_count": null,
   "metadata": {},
   "outputs": [],
   "source": [
    "# TODO"
   ]
  },
  {
   "cell_type": "code",
   "execution_count": null,
   "metadata": {},
   "outputs": [],
   "source": [
    "# TODO Save Your Boosted Tree Model\n",
    "\n",
    "# Assuming 'btmodel' is your trained model\n",
    "\n",
    "bt_model_filename = 'boostedtree.pkl'  # Specify your desired file path\n",
    "\n",
    "# Save the btmodel to disk\n",
    "with open(bt_model_filename, 'wb') as file:\n",
    "    pickle.dump(btmodel, file)\n",
    "\n",
    "print(f\"Model saved to {bt_model_filename}\")"
   ]
  },
  {
   "cell_type": "markdown",
   "metadata": {},
   "source": [
    "---"
   ]
  },
  {
   "cell_type": "markdown",
   "metadata": {},
   "source": [
    "## Final Prediction & Submission\n"
   ]
  },
  {
   "cell_type": "code",
   "execution_count": null,
   "metadata": {},
   "outputs": [],
   "source": [
    "# TODO Change the 'processed_submission_test' based on your set up\n",
    "\n",
    "processed_submission_test = pd.read_csv(\"processed_submission_test.csv\", index_col=0)"
   ]
  },
  {
   "cell_type": "code",
   "execution_count": null,
   "metadata": {},
   "outputs": [],
   "source": [
    "# TODO Load the model you want to use for the final submission\n",
    "\n",
    "model_filename = 'boostedtree.pkl' # Specify your desired file path\n",
    "\n",
    "# Load the model from disk\n",
    "with open(model_filename, 'rb') as file:\n",
    "    loaded_model = pickle.load(file)\n",
    "\n",
    "print(\"Model loaded successfully.\")"
   ]
  },
  {
   "cell_type": "code",
   "execution_count": null,
   "metadata": {},
   "outputs": [],
   "source": [
    "# TODO Make predictions on the actual test dataset with your model\n",
    "\n",
    "# Assuming the ID column is named 'ID' and you don't want it as part of the features\n",
    "features = processed_submission_test.drop(columns=['ID'])\n",
    "\n",
    "# Make predictions\n",
    "predictions = loaded_model.predict(features)"
   ]
  },
  {
   "cell_type": "code",
   "execution_count": null,
   "metadata": {},
   "outputs": [],
   "source": [
    "# TODO Prepare the submission file\n",
    "\n",
    "# Create a DataFrame for submission\n",
    "submission = pd.DataFrame({\n",
    "    'ID': processed_submission_test['ID'],  # Ensure the ID column matches the sample submission's format\n",
    "    'y': predictions       # 'y' should be the predicted target variable\n",
    "})"
   ]
  },
  {
   "cell_type": "code",
   "execution_count": null,
   "metadata": {},
   "outputs": [],
   "source": [
    "# TODO Save the submission file\n",
    "submission.to_csv('submission.csv', index=True)  # Update the path to where you want to save the submission file"
   ]
  }
 ],
 "metadata": {
  "kernelspec": {
   "display_name": "Python 3",
   "language": "python",
   "name": "python3"
  },
  "language_info": {
   "codemirror_mode": {
    "name": "ipython",
    "version": 3
   },
   "file_extension": ".py",
   "mimetype": "text/x-python",
   "name": "python",
   "nbconvert_exporter": "python",
   "pygments_lexer": "ipython3",
   "version": "3.9.15"
  }
 },
 "nbformat": 4,
 "nbformat_minor": 2
}
